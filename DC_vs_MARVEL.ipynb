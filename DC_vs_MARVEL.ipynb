{
  "nbformat": 4,
  "nbformat_minor": 0,
  "metadata": {
    "colab": {
      "name": "DC vs MARVEL",
      "provenance": [],
      "collapsed_sections": [],
      "authorship_tag": "ABX9TyPZdX5xNZFdNWPucaYZmRmv",
      "include_colab_link": true
    },
    "kernelspec": {
      "name": "python3",
      "display_name": "Python 3"
    },
    "language_info": {
      "name": "python"
    }
  },
  "cells": [
    {
      "cell_type": "markdown",
      "metadata": {
        "id": "view-in-github",
        "colab_type": "text"
      },
      "source": [
        "<a href=\"https://colab.research.google.com/github/NytKing/DC-vs-MARVEL/blob/main/DC_vs_MARVEL.ipynb\" target=\"_parent\"><img src=\"https://colab.research.google.com/assets/colab-badge.svg\" alt=\"Open In Colab\"/></a>"
      ]
    },
    {
      "cell_type": "code",
      "metadata": {
        "colab": {
          "resources": {
            "http://localhost:8080/nbextensions/google.colab/files.js": {
              "data": "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",
              "ok": true,
              "headers": [
                [
                  "content-type",
                  "application/javascript"
                ]
              ],
              "status": 200,
              "status_text": ""
            }
          },
          "base_uri": "https://localhost:8080/",
          "height": 73
        },
        "id": "4V25RI9qjOs4",
        "outputId": "1eb3b5b7-c86d-4796-9be4-ba6974f3132f"
      },
      "source": [
        "from google.colab import files\n",
        "uploaded=files.upload()"
      ],
      "execution_count": 54,
      "outputs": [
        {
          "output_type": "display_data",
          "data": {
            "text/html": [
              "\n",
              "     <input type=\"file\" id=\"files-078d2a2e-6746-4df8-9e0e-e853e237002d\" name=\"files[]\" multiple disabled\n",
              "        style=\"border:none\" />\n",
              "     <output id=\"result-078d2a2e-6746-4df8-9e0e-e853e237002d\">\n",
              "      Upload widget is only available when the cell has been executed in the\n",
              "      current browser session. Please rerun this cell to enable.\n",
              "      </output>\n",
              "      <script src=\"/nbextensions/google.colab/files.js\"></script> "
            ],
            "text/plain": [
              "<IPython.core.display.HTML object>"
            ]
          },
          "metadata": {
            "tags": []
          }
        },
        {
          "output_type": "stream",
          "text": [
            "Saving mdc.csv to mdc (1).csv\n"
          ],
          "name": "stdout"
        }
      ]
    },
    {
      "cell_type": "code",
      "metadata": {
        "id": "hcsdwFExjRKT"
      },
      "source": [
        "import pandas as pd\n",
        "import numpy as np\n",
        "import io\n",
        "dcm= pd.read_csv(io.BytesIO(uploaded['mdc.csv']))\n",
        "#col= (dcm.columns.str.strip().str.upper()\n",
        "           #   .str.replace(' ', '_')\n",
        "           #   .str.replace('(', '')\n",
        "           #   .str.replace(')', ''))\n",
        "#col"
      ],
      "execution_count": 55,
      "outputs": []
    },
    {
      "cell_type": "code",
      "metadata": {
        "colab": {
          "base_uri": "https://localhost:8080/"
        },
        "id": "JEgLk-lVzAns",
        "outputId": "d8e3dc27-804d-442b-d527-86bfd12351b1"
      },
      "source": [
        "dcm.shape"
      ],
      "execution_count": 56,
      "outputs": [
        {
          "output_type": "execute_result",
          "data": {
            "text/plain": [
              "(90, 18)"
            ]
          },
          "metadata": {
            "tags": []
          },
          "execution_count": 56
        }
      ]
    },
    {
      "cell_type": "code",
      "metadata": {
        "colab": {
          "base_uri": "https://localhost:8080/"
        },
        "id": "_BELAR5VktV8",
        "outputId": "1f13b0e5-0a3f-434e-cb6d-433d35697267"
      },
      "source": [
        "dcm[dcm.columns].isnull().sum()"
      ],
      "execution_count": 57,
      "outputs": [
        {
          "output_type": "execute_result",
          "data": {
            "text/plain": [
              "id                0\n",
              "title             0\n",
              "year              0\n",
              "genre             0\n",
              "runtime           0\n",
              "mpa_rating        0\n",
              "imdb_rating       0\n",
              "imdb_votes        0\n",
              "imdb_gross        0\n",
              "director          0\n",
              "stars             0\n",
              "description       0\n",
              "crit_consensus    0\n",
              "tomato_meter      0\n",
              "tomato_review     0\n",
              "tom_aud_score     0\n",
              "tom_ratings       0\n",
              "entity            0\n",
              "dtype: int64"
            ]
          },
          "metadata": {
            "tags": []
          },
          "execution_count": 57
        }
      ]
    },
    {
      "cell_type": "code",
      "metadata": {
        "colab": {
          "base_uri": "https://localhost:8080/"
        },
        "id": "KW1QG_GEnVey",
        "outputId": "e5ae7c27-5b77-438a-9262-16c4b1691b1e"
      },
      "source": [
        "dcm[\"crit_consensus\"]"
      ],
      "execution_count": 59,
      "outputs": [
        {
          "output_type": "execute_result",
          "data": {
            "text/plain": [
              "0     Find one of these old serials, friend. They're...\n",
              "1     While it has its moments, Howard the Duck suff...\n",
              "2     Though some may find the plot a bit lacking, B...\n",
              "3     Faithful to the comics and filled with action,...\n",
              "4     Though Blade II offers more of what worked in ...\n",
              "                            ...                        \n",
              "85    Aquaman swims with its entertainingly ludicrou...\n",
              "86    An effortlessly entertaining blend of humor an...\n",
              "87    Joker gives its infamous central character a c...\n",
              "88    With a fresh perspective, some new friends, an...\n",
              "89    Wonder Woman 1984 struggles with sequel overlo...\n",
              "Name: crit_consensus, Length: 90, dtype: object"
            ]
          },
          "metadata": {
            "tags": []
          },
          "execution_count": 59
        }
      ]
    },
    {
      "cell_type": "code",
      "metadata": {
        "colab": {
          "base_uri": "https://localhost:8080/"
        },
        "id": "w6ILn7WXn-TC",
        "outputId": "fd1ec3a3-b7ff-453c-fa20-69dbb8e5e5bf"
      },
      "source": [
        "! pip install textblob"
      ],
      "execution_count": 58,
      "outputs": [
        {
          "output_type": "stream",
          "text": [
            "Requirement already satisfied: textblob in /usr/local/lib/python3.7/dist-packages (0.15.3)\n",
            "Requirement already satisfied: nltk>=3.1 in /usr/local/lib/python3.7/dist-packages (from textblob) (3.2.5)\n",
            "Requirement already satisfied: six in /usr/local/lib/python3.7/dist-packages (from nltk>=3.1->textblob) (1.15.0)\n"
          ],
          "name": "stdout"
        }
      ]
    },
    {
      "cell_type": "code",
      "metadata": {
        "colab": {
          "base_uri": "https://localhost:8080/"
        },
        "id": "33i2GsEsob4o",
        "outputId": "eee875ff-be63-4c58-b8e8-cd471ed6c7f2"
      },
      "source": [
        "from textblob import TextBlob\n",
        "sentiments=[]\n",
        "for x in dcm['crit_consensus']:\n",
        "  edu=TextBlob(x)\n",
        "  senti=edu.sentiment.polarity\n",
        "  if senti==0:\n",
        "    sentiments.append(0)\n",
        "  if senti>0:\n",
        "    sentiments.append(1)\n",
        "  if senti<0:\n",
        "    sentiments.append(-1)\n",
        "print(sentiments)\n"
      ],
      "execution_count": 62,
      "outputs": [
        {
          "output_type": "stream",
          "text": [
            "[1, -1, 1, 1, 1, 1, -1, 1, 1, -1, 1, 1, 1, 1, 1, -1, 1, -1, 1, 1, -1, 1, 1, 1, 1, 1, -1, 1, 1, 1, -1, 1, 1, 1, 1, 1, 1, 1, 1, 1, 1, 1, 1, 1, 1, 1, 1, 1, 1, -1, 1, -1, 1, 1, -1, 1, 1, 1, 0, 1, 1, 0, -1, 1, -1, -1, 1, 1, -1, 0, 0, 1, 1, 1, 1, 1, 1, 1, 1, 1, 1, 1, -1, 1, -1, 1, 1, 1, 1, 1]\n"
          ],
          "name": "stdout"
        }
      ]
    },
    {
      "cell_type": "code",
      "metadata": {
        "colab": {
          "base_uri": "https://localhost:8080/"
        },
        "id": "E7X4WoDhrBm9",
        "outputId": "cb393d64-2e85-440f-ba05-618dde0b6262"
      },
      "source": [
        "ulist=[]\n",
        "for i in sentiments:\n",
        "  if i not in ulist:\n",
        "    ulist.append(i)\n",
        "ulist"
      ],
      "execution_count": 60,
      "outputs": [
        {
          "output_type": "execute_result",
          "data": {
            "text/plain": [
              "[1, -1, 0]"
            ]
          },
          "metadata": {
            "tags": []
          },
          "execution_count": 60
        }
      ]
    },
    {
      "cell_type": "code",
      "metadata": {
        "colab": {
          "base_uri": "https://localhost:8080/",
          "height": 576
        },
        "id": "VTNcNsQ7s4lN",
        "outputId": "1f028df7-feb4-405d-e018-ed5992856964"
      },
      "source": [
        "dcm['Sentiment']=sentiments\n",
        "dcm.head()"
      ],
      "execution_count": 63,
      "outputs": [
        {
          "output_type": "execute_result",
          "data": {
            "text/html": [
              "<div>\n",
              "<style scoped>\n",
              "    .dataframe tbody tr th:only-of-type {\n",
              "        vertical-align: middle;\n",
              "    }\n",
              "\n",
              "    .dataframe tbody tr th {\n",
              "        vertical-align: top;\n",
              "    }\n",
              "\n",
              "    .dataframe thead th {\n",
              "        text-align: right;\n",
              "    }\n",
              "</style>\n",
              "<table border=\"1\" class=\"dataframe\">\n",
              "  <thead>\n",
              "    <tr style=\"text-align: right;\">\n",
              "      <th></th>\n",
              "      <th>id</th>\n",
              "      <th>title</th>\n",
              "      <th>year</th>\n",
              "      <th>genre</th>\n",
              "      <th>runtime</th>\n",
              "      <th>mpa_rating</th>\n",
              "      <th>imdb_rating</th>\n",
              "      <th>imdb_votes</th>\n",
              "      <th>imdb_gross</th>\n",
              "      <th>director</th>\n",
              "      <th>stars</th>\n",
              "      <th>description</th>\n",
              "      <th>crit_consensus</th>\n",
              "      <th>tomato_meter</th>\n",
              "      <th>tomato_review</th>\n",
              "      <th>tom_aud_score</th>\n",
              "      <th>tom_ratings</th>\n",
              "      <th>entity</th>\n",
              "      <th>Sentiment</th>\n",
              "    </tr>\n",
              "  </thead>\n",
              "  <tbody>\n",
              "    <tr>\n",
              "      <th>0</th>\n",
              "      <td>1</td>\n",
              "      <td>Captain America</td>\n",
              "      <td>1944</td>\n",
              "      <td>Action, Adventure, Sci-Fi</td>\n",
              "      <td>244</td>\n",
              "      <td>Approved</td>\n",
              "      <td>5.5</td>\n",
              "      <td>844</td>\n",
              "      <td>0</td>\n",
              "      <td>Elmer Clifton</td>\n",
              "      <td>Elmer Clifton,Dick Purcell,Lorna Gray,Lionel A...</td>\n",
              "      <td>Superhero Captain America battles the evil for...</td>\n",
              "      <td>Find one of these old serials, friend. They're...</td>\n",
              "      <td>0</td>\n",
              "      <td>1</td>\n",
              "      <td>82</td>\n",
              "      <td>250</td>\n",
              "      <td>MARVEL</td>\n",
              "      <td>1</td>\n",
              "    </tr>\n",
              "    <tr>\n",
              "      <th>1</th>\n",
              "      <td>2</td>\n",
              "      <td>Howard the Duck</td>\n",
              "      <td>1986</td>\n",
              "      <td>Action, Adventure, Comedy</td>\n",
              "      <td>110</td>\n",
              "      <td>PG</td>\n",
              "      <td>4.7</td>\n",
              "      <td>44073</td>\n",
              "      <td>16300000</td>\n",
              "      <td>Willard Huyck</td>\n",
              "      <td>Willard Huyck,Lea Thompson,Jeffrey Jones,Tim R...</td>\n",
              "      <td>A sarcastic humanoid duck is pulled from his h...</td>\n",
              "      <td>While it has its moments, Howard the Duck suff...</td>\n",
              "      <td>13</td>\n",
              "      <td>78</td>\n",
              "      <td>38</td>\n",
              "      <td>50000</td>\n",
              "      <td>MARVEL</td>\n",
              "      <td>-1</td>\n",
              "    </tr>\n",
              "    <tr>\n",
              "      <th>2</th>\n",
              "      <td>3</td>\n",
              "      <td>Blade</td>\n",
              "      <td>1998</td>\n",
              "      <td>Action, Horror, Sci-Fi</td>\n",
              "      <td>120</td>\n",
              "      <td>R</td>\n",
              "      <td>7.1</td>\n",
              "      <td>251243</td>\n",
              "      <td>70090000</td>\n",
              "      <td>Stephen Norrington</td>\n",
              "      <td>Stephen Norrington,Wesley Snipes,Stephen Dorff...</td>\n",
              "      <td>A half-vampire, half-mortal man becomes a prot...</td>\n",
              "      <td>Though some may find the plot a bit lacking, B...</td>\n",
              "      <td>55</td>\n",
              "      <td>103</td>\n",
              "      <td>78</td>\n",
              "      <td>250000</td>\n",
              "      <td>MARVEL</td>\n",
              "      <td>1</td>\n",
              "    </tr>\n",
              "    <tr>\n",
              "      <th>3</th>\n",
              "      <td>4</td>\n",
              "      <td>X-Men</td>\n",
              "      <td>2000</td>\n",
              "      <td>Action, Adventure, Sci-Fi</td>\n",
              "      <td>104</td>\n",
              "      <td>PG-13</td>\n",
              "      <td>7.4</td>\n",
              "      <td>580354</td>\n",
              "      <td>157300000</td>\n",
              "      <td>Bryan Singer</td>\n",
              "      <td>Bryan Singer,Patrick Stewart,Hugh Jackman,Ian ...</td>\n",
              "      <td>In a world where mutants (evolved super-powere...</td>\n",
              "      <td>Faithful to the comics and filled with action,...</td>\n",
              "      <td>82</td>\n",
              "      <td>174</td>\n",
              "      <td>83</td>\n",
              "      <td>250000</td>\n",
              "      <td>MARVEL</td>\n",
              "      <td>1</td>\n",
              "    </tr>\n",
              "    <tr>\n",
              "      <th>4</th>\n",
              "      <td>5</td>\n",
              "      <td>Blade II</td>\n",
              "      <td>2002</td>\n",
              "      <td>Action, Fantasy, Horror</td>\n",
              "      <td>117</td>\n",
              "      <td>R</td>\n",
              "      <td>6.7</td>\n",
              "      <td>203813</td>\n",
              "      <td>82350000</td>\n",
              "      <td>Guillermo del Toro</td>\n",
              "      <td>Guillermo del Toro,Wesley Snipes,Kris Kristoff...</td>\n",
              "      <td>Blade forms an uneasy alliance with the vampir...</td>\n",
              "      <td>Though Blade II offers more of what worked in ...</td>\n",
              "      <td>57</td>\n",
              "      <td>150</td>\n",
              "      <td>68</td>\n",
              "      <td>250000</td>\n",
              "      <td>MARVEL</td>\n",
              "      <td>1</td>\n",
              "    </tr>\n",
              "  </tbody>\n",
              "</table>\n",
              "</div>"
            ],
            "text/plain": [
              "   id            title  year  ... tom_ratings  entity Sentiment\n",
              "0   1  Captain America  1944  ...         250  MARVEL         1\n",
              "1   2  Howard the Duck  1986  ...       50000  MARVEL        -1\n",
              "2   3            Blade  1998  ...      250000  MARVEL         1\n",
              "3   4            X-Men  2000  ...      250000  MARVEL         1\n",
              "4   5         Blade II  2002  ...      250000  MARVEL         1\n",
              "\n",
              "[5 rows x 19 columns]"
            ]
          },
          "metadata": {
            "tags": []
          },
          "execution_count": 63
        }
      ]
    },
    {
      "cell_type": "code",
      "metadata": {
        "colab": {
          "base_uri": "https://localhost:8080/"
        },
        "id": "9CCOCcW-uNBN",
        "outputId": "7ccb4d91-3f90-40f3-d6bd-2926103433c8"
      },
      "source": [
        "dcm.shape"
      ],
      "execution_count": 64,
      "outputs": [
        {
          "output_type": "execute_result",
          "data": {
            "text/plain": [
              "(90, 19)"
            ]
          },
          "metadata": {
            "tags": []
          },
          "execution_count": 64
        }
      ]
    },
    {
      "cell_type": "code",
      "metadata": {
        "id": "Os5NE8-WzvKg"
      },
      "source": [
        "dcm_no_des=dcm.drop([\"description\",\"crit_consensus\"],axis=1)\n"
      ],
      "execution_count": 65,
      "outputs": []
    },
    {
      "cell_type": "code",
      "metadata": {
        "colab": {
          "base_uri": "https://localhost:8080/"
        },
        "id": "45FzFTyQ0LaU",
        "outputId": "4316844a-d5f9-41bb-942e-e28cc04b6b0f"
      },
      "source": [
        "dcm_no_des.shape"
      ],
      "execution_count": 66,
      "outputs": [
        {
          "output_type": "execute_result",
          "data": {
            "text/plain": [
              "(90, 17)"
            ]
          },
          "metadata": {
            "tags": []
          },
          "execution_count": 66
        }
      ]
    },
    {
      "cell_type": "code",
      "metadata": {
        "colab": {
          "base_uri": "https://localhost:8080/",
          "height": 890
        },
        "id": "o1PHc-tk1vjS",
        "outputId": "60b047f5-65d3-4057-ce9a-3033e6dd61dd"
      },
      "source": [
        "dcm_no_des"
      ],
      "execution_count": 67,
      "outputs": [
        {
          "output_type": "execute_result",
          "data": {
            "text/html": [
              "<div>\n",
              "<style scoped>\n",
              "    .dataframe tbody tr th:only-of-type {\n",
              "        vertical-align: middle;\n",
              "    }\n",
              "\n",
              "    .dataframe tbody tr th {\n",
              "        vertical-align: top;\n",
              "    }\n",
              "\n",
              "    .dataframe thead th {\n",
              "        text-align: right;\n",
              "    }\n",
              "</style>\n",
              "<table border=\"1\" class=\"dataframe\">\n",
              "  <thead>\n",
              "    <tr style=\"text-align: right;\">\n",
              "      <th></th>\n",
              "      <th>id</th>\n",
              "      <th>title</th>\n",
              "      <th>year</th>\n",
              "      <th>genre</th>\n",
              "      <th>runtime</th>\n",
              "      <th>mpa_rating</th>\n",
              "      <th>imdb_rating</th>\n",
              "      <th>imdb_votes</th>\n",
              "      <th>imdb_gross</th>\n",
              "      <th>director</th>\n",
              "      <th>stars</th>\n",
              "      <th>tomato_meter</th>\n",
              "      <th>tomato_review</th>\n",
              "      <th>tom_aud_score</th>\n",
              "      <th>tom_ratings</th>\n",
              "      <th>entity</th>\n",
              "      <th>Sentiment</th>\n",
              "    </tr>\n",
              "  </thead>\n",
              "  <tbody>\n",
              "    <tr>\n",
              "      <th>0</th>\n",
              "      <td>1</td>\n",
              "      <td>Captain America</td>\n",
              "      <td>1944</td>\n",
              "      <td>Action, Adventure, Sci-Fi</td>\n",
              "      <td>244</td>\n",
              "      <td>Approved</td>\n",
              "      <td>5.5</td>\n",
              "      <td>844</td>\n",
              "      <td>0</td>\n",
              "      <td>Elmer Clifton</td>\n",
              "      <td>Elmer Clifton,Dick Purcell,Lorna Gray,Lionel A...</td>\n",
              "      <td>0</td>\n",
              "      <td>1</td>\n",
              "      <td>82</td>\n",
              "      <td>250</td>\n",
              "      <td>MARVEL</td>\n",
              "      <td>1</td>\n",
              "    </tr>\n",
              "    <tr>\n",
              "      <th>1</th>\n",
              "      <td>2</td>\n",
              "      <td>Howard the Duck</td>\n",
              "      <td>1986</td>\n",
              "      <td>Action, Adventure, Comedy</td>\n",
              "      <td>110</td>\n",
              "      <td>PG</td>\n",
              "      <td>4.7</td>\n",
              "      <td>44073</td>\n",
              "      <td>16300000</td>\n",
              "      <td>Willard Huyck</td>\n",
              "      <td>Willard Huyck,Lea Thompson,Jeffrey Jones,Tim R...</td>\n",
              "      <td>13</td>\n",
              "      <td>78</td>\n",
              "      <td>38</td>\n",
              "      <td>50000</td>\n",
              "      <td>MARVEL</td>\n",
              "      <td>-1</td>\n",
              "    </tr>\n",
              "    <tr>\n",
              "      <th>2</th>\n",
              "      <td>3</td>\n",
              "      <td>Blade</td>\n",
              "      <td>1998</td>\n",
              "      <td>Action, Horror, Sci-Fi</td>\n",
              "      <td>120</td>\n",
              "      <td>R</td>\n",
              "      <td>7.1</td>\n",
              "      <td>251243</td>\n",
              "      <td>70090000</td>\n",
              "      <td>Stephen Norrington</td>\n",
              "      <td>Stephen Norrington,Wesley Snipes,Stephen Dorff...</td>\n",
              "      <td>55</td>\n",
              "      <td>103</td>\n",
              "      <td>78</td>\n",
              "      <td>250000</td>\n",
              "      <td>MARVEL</td>\n",
              "      <td>1</td>\n",
              "    </tr>\n",
              "    <tr>\n",
              "      <th>3</th>\n",
              "      <td>4</td>\n",
              "      <td>X-Men</td>\n",
              "      <td>2000</td>\n",
              "      <td>Action, Adventure, Sci-Fi</td>\n",
              "      <td>104</td>\n",
              "      <td>PG-13</td>\n",
              "      <td>7.4</td>\n",
              "      <td>580354</td>\n",
              "      <td>157300000</td>\n",
              "      <td>Bryan Singer</td>\n",
              "      <td>Bryan Singer,Patrick Stewart,Hugh Jackman,Ian ...</td>\n",
              "      <td>82</td>\n",
              "      <td>174</td>\n",
              "      <td>83</td>\n",
              "      <td>250000</td>\n",
              "      <td>MARVEL</td>\n",
              "      <td>1</td>\n",
              "    </tr>\n",
              "    <tr>\n",
              "      <th>4</th>\n",
              "      <td>5</td>\n",
              "      <td>Blade II</td>\n",
              "      <td>2002</td>\n",
              "      <td>Action, Fantasy, Horror</td>\n",
              "      <td>117</td>\n",
              "      <td>R</td>\n",
              "      <td>6.7</td>\n",
              "      <td>203813</td>\n",
              "      <td>82350000</td>\n",
              "      <td>Guillermo del Toro</td>\n",
              "      <td>Guillermo del Toro,Wesley Snipes,Kris Kristoff...</td>\n",
              "      <td>57</td>\n",
              "      <td>150</td>\n",
              "      <td>68</td>\n",
              "      <td>250000</td>\n",
              "      <td>MARVEL</td>\n",
              "      <td>1</td>\n",
              "    </tr>\n",
              "    <tr>\n",
              "      <th>...</th>\n",
              "      <td>...</td>\n",
              "      <td>...</td>\n",
              "      <td>...</td>\n",
              "      <td>...</td>\n",
              "      <td>...</td>\n",
              "      <td>...</td>\n",
              "      <td>...</td>\n",
              "      <td>...</td>\n",
              "      <td>...</td>\n",
              "      <td>...</td>\n",
              "      <td>...</td>\n",
              "      <td>...</td>\n",
              "      <td>...</td>\n",
              "      <td>...</td>\n",
              "      <td>...</td>\n",
              "      <td>...</td>\n",
              "      <td>...</td>\n",
              "    </tr>\n",
              "    <tr>\n",
              "      <th>85</th>\n",
              "      <td>86</td>\n",
              "      <td>Aquaman</td>\n",
              "      <td>2018</td>\n",
              "      <td>Action, Adventure, Fantasy</td>\n",
              "      <td>143</td>\n",
              "      <td>PG-13</td>\n",
              "      <td>6.9</td>\n",
              "      <td>400424</td>\n",
              "      <td>335060000</td>\n",
              "      <td>James Wan</td>\n",
              "      <td>Jason Momoa,Amber Heard,Willem Dafoe,Patrick W...</td>\n",
              "      <td>65</td>\n",
              "      <td>406</td>\n",
              "      <td>74</td>\n",
              "      <td>25000</td>\n",
              "      <td>DC</td>\n",
              "      <td>1</td>\n",
              "    </tr>\n",
              "    <tr>\n",
              "      <th>86</th>\n",
              "      <td>87</td>\n",
              "      <td>Shazam!</td>\n",
              "      <td>2019</td>\n",
              "      <td>Action, Adventure, Comedy</td>\n",
              "      <td>132</td>\n",
              "      <td>PG-13</td>\n",
              "      <td>7.0</td>\n",
              "      <td>279604</td>\n",
              "      <td>140370000</td>\n",
              "      <td>David F. Sandberg</td>\n",
              "      <td>Zachary Levi,Mark Strong,Asher Angel,Jack Dyla...</td>\n",
              "      <td>90</td>\n",
              "      <td>409</td>\n",
              "      <td>82</td>\n",
              "      <td>10000</td>\n",
              "      <td>DC</td>\n",
              "      <td>1</td>\n",
              "    </tr>\n",
              "    <tr>\n",
              "      <th>87</th>\n",
              "      <td>88</td>\n",
              "      <td>Joker</td>\n",
              "      <td>2019</td>\n",
              "      <td>Crime, Drama, Thriller</td>\n",
              "      <td>122</td>\n",
              "      <td>R</td>\n",
              "      <td>8.4</td>\n",
              "      <td>1014748</td>\n",
              "      <td>335450000</td>\n",
              "      <td>Todd Phillips</td>\n",
              "      <td>Joaquin Phoenix,Robert De Niro,Zazie Beetz,Fra...</td>\n",
              "      <td>68</td>\n",
              "      <td>585</td>\n",
              "      <td>88</td>\n",
              "      <td>50000</td>\n",
              "      <td>DC</td>\n",
              "      <td>1</td>\n",
              "    </tr>\n",
              "    <tr>\n",
              "      <th>88</th>\n",
              "      <td>89</td>\n",
              "      <td>Birds of Prey</td>\n",
              "      <td>2020</td>\n",
              "      <td>Action, Adventure, Comedy</td>\n",
              "      <td>109</td>\n",
              "      <td>R</td>\n",
              "      <td>6.1</td>\n",
              "      <td>186805</td>\n",
              "      <td>84160000</td>\n",
              "      <td>Cathy Yan</td>\n",
              "      <td>Margot Robbie,Rosie Perez,Mary Elizabeth Winst...</td>\n",
              "      <td>79</td>\n",
              "      <td>430</td>\n",
              "      <td>78</td>\n",
              "      <td>10000</td>\n",
              "      <td>DC</td>\n",
              "      <td>1</td>\n",
              "    </tr>\n",
              "    <tr>\n",
              "      <th>89</th>\n",
              "      <td>90</td>\n",
              "      <td>Wonder Woman 1984</td>\n",
              "      <td>2020</td>\n",
              "      <td>Action, Adventure, Fantasy</td>\n",
              "      <td>151</td>\n",
              "      <td>PG-13</td>\n",
              "      <td>5.4</td>\n",
              "      <td>212554</td>\n",
              "      <td>46370000</td>\n",
              "      <td>Patty Jenkins</td>\n",
              "      <td>Gal Gadot,Chris Pine,Kristen Wiig,Pedro Pascal</td>\n",
              "      <td>59</td>\n",
              "      <td>431</td>\n",
              "      <td>73</td>\n",
              "      <td>2500</td>\n",
              "      <td>DC</td>\n",
              "      <td>1</td>\n",
              "    </tr>\n",
              "  </tbody>\n",
              "</table>\n",
              "<p>90 rows × 17 columns</p>\n",
              "</div>"
            ],
            "text/plain": [
              "    id              title  year  ... tom_ratings  entity Sentiment\n",
              "0    1    Captain America  1944  ...         250  MARVEL         1\n",
              "1    2    Howard the Duck  1986  ...       50000  MARVEL        -1\n",
              "2    3              Blade  1998  ...      250000  MARVEL         1\n",
              "3    4              X-Men  2000  ...      250000  MARVEL         1\n",
              "4    5           Blade II  2002  ...      250000  MARVEL         1\n",
              "..  ..                ...   ...  ...         ...     ...       ...\n",
              "85  86            Aquaman  2018  ...       25000      DC         1\n",
              "86  87            Shazam!  2019  ...       10000      DC         1\n",
              "87  88              Joker  2019  ...       50000      DC         1\n",
              "88  89      Birds of Prey  2020  ...       10000      DC         1\n",
              "89  90  Wonder Woman 1984  2020  ...        2500      DC         1\n",
              "\n",
              "[90 rows x 17 columns]"
            ]
          },
          "metadata": {
            "tags": []
          },
          "execution_count": 67
        }
      ]
    },
    {
      "cell_type": "code",
      "metadata": {
        "colab": {
          "base_uri": "https://localhost:8080/",
          "height": 574
        },
        "id": "-MSJ0VJ02E_P",
        "outputId": "ca73916b-4b0d-484d-8ffb-848ac42888cf"
      },
      "source": [
        "import matplotlib.pyplot as plt\n",
        "import seaborn as sns\n",
        "\n",
        "\n",
        "sns.countplot(x=\"entity\",data=dcm_no_des)\n",
        "plt.title(\"count of DC vs Marvel movies\")\n",
        "plt.show()\n",
        "\n",
        "sns.countplot(x=\"mpa_rating\",data=dcm_no_des)\n",
        "plt.title(\"count of ratings\")\n",
        "plt.show()"
      ],
      "execution_count": 68,
      "outputs": [
        {
          "output_type": "display_data",
          "data": {
            "image/png": "[encoded data removed]",
            "text/plain": [
              "<Figure size 432x288 with 1 Axes>"
            ]
          },
          "metadata": {
            "tags": [],
            "needs_background": "light"
          }
        },
        {
          "output_type": "display_data",
          "data": {
            "image/png": "[encoded data removed]",
            "text/plain": [
              "<Figure size 432x288 with 1 Axes>"
            ]
          },
          "metadata": {
            "tags": [],
            "needs_background": "light"
          }
        }
      ]
    },
    {
      "cell_type": "code",
      "metadata": {
        "colab": {
          "base_uri": "https://localhost:8080/"
        },
        "id": "hike7i4YALad",
        "outputId": "bf523878-71a8-4041-cf4c-6db2fdeca679"
      },
      "source": [
        "rat=dcm_no_des[\"mpa_rating\"].unique()\n",
        "rat=rat.tolist()\n",
        "rat"
      ],
      "execution_count": 69,
      "outputs": [
        {
          "output_type": "execute_result",
          "data": {
            "text/plain": [
              "['Approved', 'PG', 'R', 'PG-13', 'Passed']"
            ]
          },
          "metadata": {
            "tags": []
          },
          "execution_count": 69
        }
      ]
    },
    {
      "cell_type": "code",
      "metadata": {
        "colab": {
          "base_uri": "https://localhost:8080/"
        },
        "id": "-Gm79I5bDCTf",
        "outputId": "f3f9e412-a3a2-47a6-e487-05f300a95a27"
      },
      "source": [
        "profit=[]\n",
        "pro=dcm_no_des.loc[dcm_no_des[\"mpa_rating\"].isin(['Approved'])]\n",
        "profit.append(sum(pro['imdb_gross']))\n",
        "pro=dcm_no_des.loc[dcm_no_des[\"mpa_rating\"].isin(['PG'])]\n",
        "profit.append(sum(pro['imdb_gross']))\n",
        "pro=dcm_no_des.loc[dcm_no_des[\"mpa_rating\"].isin(['R'])]\n",
        "profit.append(sum(pro['imdb_gross']))\n",
        "pro=dcm_no_des.loc[dcm_no_des[\"mpa_rating\"].isin(['PG-13'])]\n",
        "profit.append(sum(pro['imdb_gross']))\n",
        "pro=dcm_no_des.loc[dcm_no_des[\"mpa_rating\"].isin(['Passed'])]\n",
        "profit.append(sum(pro['imdb_gross']))\n",
        "profit"
      ],
      "execution_count": 70,
      "outputs": [
        {
          "output_type": "execute_result",
          "data": {
            "text/plain": [
              "[0, 479860000, 1763520000, 16869760000, 0]"
            ]
          },
          "metadata": {
            "tags": []
          },
          "execution_count": 70
        }
      ]
    },
    {
      "cell_type": "code",
      "metadata": {
        "colab": {
          "base_uri": "https://localhost:8080/",
          "height": 298
        },
        "id": "SYzifJIPGdjW",
        "outputId": "36c41393-15bf-4f4b-ac23-f97441f906e9"
      },
      "source": [
        "plt.bar(rat,profit)\n",
        "for continent, ladder in enumerate(profit):\n",
        "    plt.text(continent, ladder, str(ladder),horizontalalignment='center')\n",
        "plt.title(\"most profitable movie type\")"
      ],
      "execution_count": 71,
      "outputs": [
        {
          "output_type": "execute_result",
          "data": {
            "text/plain": [
              "Text(0.5, 1.0, 'most profitable movie type')"
            ]
          },
          "metadata": {
            "tags": []
          },
          "execution_count": 71
        },
        {
          "output_type": "display_data",
          "data": {
            "image/png": "[encoded data removed]",
            "text/plain": [
              "<Figure size 432x288 with 1 Axes>"
            ]
          },
          "metadata": {
            "tags": [],
            "needs_background": "light"
          }
        }
      ]
    },
    {
      "cell_type": "code",
      "metadata": {
        "colab": {
          "base_uri": "https://localhost:8080/"
        },
        "id": "_cFOOPZSKirv",
        "outputId": "29ad78d9-7052-4ba2-87fa-6ebda881c8e8"
      },
      "source": [
        "gen=dcm_no_des[\"genre\"].unique()\n",
        "gen"
      ],
      "execution_count": 72,
      "outputs": [
        {
          "output_type": "execute_result",
          "data": {
            "text/plain": [
              "array(['Action, Adventure, Sci-Fi', 'Action, Adventure, Comedy',\n",
              "       'Action, Horror, Sci-Fi', 'Action, Fantasy, Horror',\n",
              "       'Action, Crime', 'Action, Sci-Fi, Thriller', 'Action, Sci-Fi',\n",
              "       'Action, Crime, Drama', 'Action, Adventure, Fantasy',\n",
              "       'Action, Adventure, Crime', 'Action, Fantasy, Thriller',\n",
              "       'Action, Drama, Sci-Fi', 'Action, Adventure, Drama',\n",
              "       'Action, Horror, Mystery', 'Adventure, Comedy, Crime',\n",
              "       'Horror, Sci-Fi', 'Action, Adventure', 'Action, Crime, Fantasy',\n",
              "       'Action, Drama, Mystery', 'Action, Drama, Fantasy',\n",
              "       'Crime, Drama, Thriller'], dtype=object)"
            ]
          },
          "metadata": {
            "tags": []
          },
          "execution_count": 72
        }
      ]
    },
    {
      "cell_type": "code",
      "metadata": {
        "colab": {
          "base_uri": "https://localhost:8080/"
        },
        "id": "BK8wVRPYIa6K",
        "outputId": "0b5fed96-a9f5-47ba-848f-714b0ba1a7bc"
      },
      "source": [
        "#dire=dcm_no_des[\"director\"]\n",
        "#dire=dcm_no_des.loc[dcm_no_des[\"director\"].isin(['Zack Snyder'])]\n",
        "#dire\n",
        "print('Director with max movies is',max(dcm_no_des['director']))\n",
        "\n",
        "print(\"Genre with max movies is\",max(dcm_no_des['genre']))\n",
        "\n",
        "print(\"max profit is\",max(dcm_no_des['imdb_gross']))\n",
        "\n",
        "print(\"Movie with max profit is\",dcm_no_des[\"title\"][53])\n",
        "\n",
        "print(\"max runtime is\",max(dcm_no_des['runtime']))\n",
        "\n",
        "print(\"Movie with max runtime is\",dcm_no_des[\"title\"][0])\n",
        "\n",
        "\n",
        "#dcm_no_des[dcm_no_des['runtime']==244].index\n",
        "#profit.append(sum(pro['imdb_gross']))\n",
        "#max(dire)\n",
        "\n",
        "#gen=dcm_no_des[\"genre\"]\n",
        "#max(gen)"
      ],
      "execution_count": 73,
      "outputs": [
        {
          "output_type": "stream",
          "text": [
            "Director with max movies is Zack Snyder\n",
            "Genre with max movies is Horror, Sci-Fi\n",
            "max profit is 858370000\n",
            "Movie with max profit is Avengers: Endgame\n",
            "max runtime is 244\n",
            "Movie with max runtime is Captain America\n"
          ],
          "name": "stdout"
        }
      ]
    },
    {
      "cell_type": "code",
      "metadata": {
        "colab": {
          "base_uri": "https://localhost:8080/",
          "height": 575
        },
        "id": "Ig91vgGNUVV9",
        "outputId": "530ef3d7-c494-4e5a-a7ce-4b01531f506b"
      },
      "source": [
        "dcm_no_des_ma=dcm_no_des.loc[dcm_no_des[\"entity\"].isin(['MARVEL'])]\n",
        "\n",
        "sns.countplot(x=\"mpa_rating\",data=dcm_no_des_ma)\n",
        "\n",
        "plt.title(\"Marvel movie Ratings categories\")\n",
        "plt.show()\n",
        "\n",
        "dcm_no_des_dc=dcm_no_des.loc[dcm_no_des[\"entity\"].isin(['DC'])]\n",
        "\n",
        "sns.countplot(x=\"mpa_rating\",data=dcm_no_des_dc)\n",
        "\n",
        "plt.title(\"DC movie Ratings categories\")\n",
        "plt.show()"
      ],
      "execution_count": 74,
      "outputs": [
        {
          "output_type": "display_data",
          "data": {
            "image/png": "[encoded data removed]",
            "text/plain": [
              "<Figure size 432x288 with 1 Axes>"
            ]
          },
          "metadata": {
            "tags": [],
            "needs_background": "light"
          }
        },
        {
          "output_type": "display_data",
          "data": {
            "image/png": "[encoded data removed]",
            "text/plain": [
              "<Figure size 432x288 with 1 Axes>"
            ]
          },
          "metadata": {
            "tags": [],
            "needs_background": "light"
          }
        }
      ]
    },
    {
      "cell_type": "code",
      "metadata": {
        "colab": {
          "base_uri": "https://localhost:8080/",
          "height": 575
        },
        "id": "CzevnRUbV5q1",
        "outputId": "ad7f3c11-740e-4259-fbef-f93e162452bf"
      },
      "source": [
        "sns.violinplot(x=dcm_no_des_ma[\"imdb_rating\"])\n",
        "plt.title(\"Marvel movies rating variation\")\n",
        "plt.show()\n",
        "sns.violinplot(x=dcm_no_des_dc[\"imdb_rating\"])\n",
        "plt.title(\"DC movies rating variation\")\n",
        "plt.show()"
      ],
      "execution_count": 81,
      "outputs": [
        {
          "output_type": "display_data",
          "data": {
            "image/png": "[encoded data removed]",
            "text/plain": [
              "<Figure size 432x288 with 1 Axes>"
            ]
          },
          "metadata": {
            "tags": [],
            "needs_background": "light"
          }
        },
        {
          "output_type": "display_data",
          "data": {
            "image/png": "[encoded data removed]",
            "text/plain": [
              "<Figure size 432x288 with 1 Axes>"
            ]
          },
          "metadata": {
            "tags": [],
            "needs_background": "light"
          }
        }
      ]
    },
    {
      "cell_type": "code",
      "metadata": {
        "colab": {
          "base_uri": "https://localhost:8080/",
          "height": 265
        },
        "id": "Wwi_rk03n1NJ",
        "outputId": "304b50ab-72e0-4be6-fc16-a2d0039d76fb"
      },
      "source": [
        "#x=dcm_no_des\n",
        "y=dcm_no_des[\"imdb_gross\"]\n",
        "x=dcm_no_des.drop([\"imdb_gross\",\"id\",\"title\",\"genre\",\"mpa_rating\",\"director\",\"entity\",\"stars\"],axis=1)\n",
        "\n",
        "\n",
        "from sklearn.ensemble import ExtraTreesClassifier\n",
        "model=ExtraTreesClassifier()\n",
        "model.fit(x,y)\n",
        "important=pd.Series(model.feature_importances_,index=x.columns)\n",
        "important.nlargest(10).plot(kind=\"barh\")\n",
        "plt.show()"
      ],
      "execution_count": 76,
      "outputs": [
        {
          "output_type": "display_data",
          "data": {
            "image/png": "[encoded data removed]",
            "text/plain": [
              "<Figure size 432x288 with 1 Axes>"
            ]
          },
          "metadata": {
            "tags": [],
            "needs_background": "light"
          }
        }
      ]
    },
    {
      "cell_type": "code",
      "metadata": {
        "colab": {
          "base_uri": "https://localhost:8080/",
          "height": 1000
        },
        "id": "1HH6ZDWopxpP",
        "outputId": "2b2d9887-7cfa-41f1-d754-7d68500bab65"
      },
      "source": [
        "z=dcm_no_des.drop([\"id\",\"title\",\"genre\",\"mpa_rating\",\"director\",\"stars\"],axis=1)\n",
        "z=z.replace(to_replace=[\"MARVEL\",\"DC\"],value=[1,2])\n",
        "co=z.corr()\n",
        "features=co.index\n",
        "plt.figure(figsize=(20,20))\n",
        "\n",
        "heat=sns.heatmap(z[features].corr(),annot=True,)\n"
      ],
      "execution_count": 86,
      "outputs": [
        {
          "output_type": "display_data",
          "data": {
            "image/png": "[encoded data removed]",
            "text/plain": [
              "<Figure size 1440x1440 with 2 Axes>"
            ]
          },
          "metadata": {
            "tags": [],
            "needs_background": "light"
          }
        }
      ]
    }
  ]
}